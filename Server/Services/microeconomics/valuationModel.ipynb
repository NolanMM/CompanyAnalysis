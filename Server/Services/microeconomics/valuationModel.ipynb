{
 "cells": [
  {
   "cell_type": "markdown",
   "metadata": {},
   "source": [
    "# Valuation Model Notebook\n",
    "This notebook retrieves data from Snowflake, performs feature engineering, trains a model, and predicts valuation."
   ]
  },
  {
   "cell_type": "code",
   "execution_count": null,
   "metadata": {},
   "outputs": [],
   "source": [
    "# 1. Import Libraries\n",
    "import os\n",
    "import pandas as pd\n",
    "import numpy as np\n",
    "from sklearn.model_selection import train_test_split\n",
    "from sklearn.ensemble import RandomForestClassifier\n",
    "from sklearn.metrics import classification_report, confusion_matrix\n",
    "from sklearn.preprocessing import StandardScaler\n",
    "import matplotlib.pyplot as plt\n",
    "import seaborn as sns\n",
    "\n",
    "# Import custom data retrieval module\n",
    "from retrieveData import MicroeconomicDataRetriever\n"
   ]
  },
  {
   "cell_type": "code",
   "execution_count": null,
   "metadata": {},
   "outputs": [],
   "source": [
    "# 2. Load Microeconomic Data from Snowflake\n",
    "retriever = MicroeconomicDataRetriever()\n",
    "micro_df = retriever.retrieve_data()\n",
    "\n",
    "# Display the first few rows of the retrieved data to check structure\n",
    "micro_df.head()\n"
   ]
  },
  {
   "cell_type": "code",
   "execution_count": null,
   "id": "5d23bf86",
   "metadata": {},
   "outputs": [],
   "source": [
    "# 3. Feature Engineering on Retrieved Data\n",
    "# Moving Average Features for Stock Prices (if stock prices are included in df)\n",
    "if 'Stock_Price' in micro_df.columns:\n",
    "    micro_df['Stock_Price_MA_3'] = micro_df['Stock_Price'].rolling(window=3).mean()\n",
    "    micro_df['Stock_Price_MA_6'] = micro_df['Stock_Price'].rolling(window=6).mean()\n",
    "    \n",
    "# Volatility (Standard Deviation of Stock Price over 3 and 6 months)\n",
    "if 'Stock_Price' in micro_df.columns:\n",
    "    micro_df['Stock_Volatility_3M'] = micro_df['Stock_Price'].rolling(window=3).std()\n",
    "    micro_df['Stock_Volatility_6M'] = micro_df['Stock_Price'].rolling(window=6).std()\n",
    "\n",
    "# Lag Features for Economic Metrics\n",
    "micro_df['GDP_Lag_1'] = micro_df['GDP'].shift(1)\n",
    "micro_df['Inflation_Rate_Lag_1'] = micro_df['Inflation_Rate'].shift(1)\n",
    "micro_df['Unemployment_Rate_Lag_1'] = micro_df['Unemployment_Rate'].shift(1)\n",
    "\n",
    "# Drop rows with NaN values generated from rolling and lag operations\n",
    "micro_df.dropna(inplace=True)\n",
    "\n",
    "# Display the data after feature engineering to verify new columns\n",
    "micro_df.head()\n"
   ]
  },
  {
   "cell_type": "code",
   "execution_count": null,
   "id": "1939c54c",
   "metadata": {},
   "outputs": [],
   "source": [
    "# 4. Preprocessing\n",
    "# Define target and features\n",
    "target = 'Target_Label'  # This should indicate if the stock is undervalued (1) or overvalued (0)\n",
    "drop_cols = ['DateTime', 'Target_Label']  # Exclude non-feature columns\n",
    "X = micro_df.drop(columns=drop_cols, errors='ignore')\n",
    "y = micro_df[target]\n",
    "\n",
    "# Scale features\n",
    "scaler = StandardScaler()\n",
    "X_scaled = scaler.fit_transform(X)\n",
    "X_scaled = pd.DataFrame(X_scaled, columns=X.columns)\n"
   ]
  },
  {
   "cell_type": "code",
   "execution_count": null,
   "id": "f2452084",
   "metadata": {},
   "outputs": [],
   "source": [
    "# 5. Train-Test Split\n",
    "X_train, X_test, y_train, y_test = train_test_split(X_scaled, y, test_size=0.2, random_state=42)\n"
   ]
  },
  {
   "cell_type": "code",
   "execution_count": null,
   "id": "9d49f85f",
   "metadata": {},
   "outputs": [],
   "source": [
    "# 6. Model Training with Random Forest\n",
    "model = RandomForestClassifier(random_state=42)\n",
    "model.fit(X_train, y_train)\n"
   ]
  },
  {
   "cell_type": "code",
   "execution_count": null,
   "id": "2ab723c4",
   "metadata": {},
   "outputs": [],
   "source": [
    "# 7. Evaluation\n",
    "y_pred = model.predict(X_test)\n",
    "print(\"Model Evaluation:\")\n",
    "print(classification_report(y_test, y_pred))\n",
    "print(confusion_matrix(y_test, y_pred))\n"
   ]
  },
  {
   "cell_type": "code",
   "execution_count": null,
   "id": "41a552d8",
   "metadata": {},
   "outputs": [],
   "source": [
    "# 8. Feature Importance Visualization\n",
    "feature_importances = pd.Series(model.feature_importances_, index=X.columns)\n",
    "feature_importances.nlargest(10).plot(kind='barh', title=\"Top 10 Feature Importances\")\n",
    "plt.show()\n"
   ]
  }
 ],
 "metadata": {
  "kernelspec": {
   "display_name": "Python 3",
   "language": "python",
   "name": "python3"
  },
  "language_info": {
   "name": "python",
   "version": "3.11.5"
  }
 },
 "nbformat": 4,
 "nbformat_minor": 5
}
