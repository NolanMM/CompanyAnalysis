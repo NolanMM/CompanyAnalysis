{
 "cells": [
  {
   "cell_type": "code",
   "execution_count": null,
   "metadata": {
    "vscode": {
     "languageId": "plaintext"
    }
   },
   "outputs": [],
   "source": [
    "# 1. Import Libraries\n",
    "import pandas as pd\n",
    "import numpy as np\n",
    "from sklearn.model_selection import train_test_split\n",
    "from sklearn.ensemble import RandomForestClassifier\n",
    "from sklearn.metrics import classification_report, confusion_matrix\n",
    "from sklearn.preprocessing import StandardScaler\n",
    "import matplotlib.pyplot as plt\n",
    "import seaborn as sns\n",
    "from retrieveData import MicroeconomicDataRetriever"
   ]
  },
  {
   "cell_type": "code",
   "execution_count": null,
   "metadata": {
    "vscode": {
     "languageId": "plaintext"
    }
   },
   "outputs": [],
   "source": [
    "# 2. Load Data using MicroeconomicDataRetriever\n",
    "# Initialize the data retriever\n",
    "retriever = MicroeconomicDataRetriever()\n",
    "# Display the data to check its structure\n",
    "df.head()"
   ]
  },
  {
   "cell_type": "code",
   "execution_count": null,
   "metadata": {
    "vscode": {
     "languageId": "plaintext"
    }
   },
   "outputs": [],
   "source": [
    "# 3. Feature Engineering\n",
    "# a. Moving Average of Stock Price (3-month, 6-month)\n",
    "df['Stock_Price_MA_3'] = df['Stock_Price'].rolling(window=3).mean()\n",
    "df['Stock_Price_MA_6'] = df['Stock_Price'].rolling(window=6).mean()\n",
    "\n",
    "# b. Volatility (Standard Deviation of Stock Price over 3 and 6 months)\n",
    "df['Stock_Volatility_3M'] = df['Stock_Price'].rolling(window=3).std()\n",
    "df['Stock_Volatility_6M'] = df['Stock_Price'].rolling(window=6).std()\n",
    "\n",
    "# c. Lag Features for GDP and Inflation (1-month lag)\n",
    "df['GDP_Lag_1'] = df['GDP'].shift(1)\n",
    "df['Inflation_Rate_Lag_1'] = df['Inflation_Rate'].shift(1)\n",
    "\n",
    "# d. Sentiment Score (Optional if available)\n",
    "# Assuming sentiment scores were derived and added in the retrieval stage\n",
    "# If not, calculate it here using NLP (requires sentiment analysis libraries)\n",
    "\n",
    "# Drop rows with NaN values generated from rolling and lag operations\n",
    "df.dropna(inplace=True)\n",
    "\n",
    "# Display the data again after feature engineering\n",
    "df.head()"
   ]
  },
  {
   "cell_type": "code",
   "execution_count": null,
   "metadata": {
    "vscode": {
     "languageId": "plaintext"
    }
   },
   "outputs": [],
   "source": [
    "# 4. Preprocessing\n",
    "# Define target and features\n",
    "target = 'Target_Label'  # Assuming Target_Label indicates if AMD is undervalued (1) or overvalued (0)\n",
    "drop_cols = ['DateTime', 'Target_Label']\n",
    "X = df.drop(columns=drop_cols)\n",
    "y = df[target]\n",
    "\n",
    "# Scale the features\n",
    "scaler = StandardScaler()\n",
    "X_scaled = scaler.fit_transform(X)\n",
    "X_scaled = pd.DataFrame(X_scaled, columns=X.columns)"
   ]
  },
  {
   "cell_type": "code",
   "execution_count": null,
   "metadata": {
    "vscode": {
     "languageId": "plaintext"
    }
   },
   "outputs": [],
   "source": [
    "# 5. Train-Test Split\n",
    "X_train, X_test, y_train, y_test = train_test_split(X_scaled, y, test_size=0.2, random_state=42)"
   ]
  },
  {
   "cell_type": "code",
   "execution_count": null,
   "metadata": {
    "vscode": {
     "languageId": "plaintext"
    }
   },
   "outputs": [],
   "source": [
    "# 6. Model Training with Random Forest\n",
    "model = RandomForestClassifier(random_state=42)\n",
    "model.fit(X_train, y_train)"
   ]
  },
  {
   "cell_type": "code",
   "execution_count": null,
   "metadata": {
    "vscode": {
     "languageId": "plaintext"
    }
   },
   "outputs": [],
   "source": [
    "# 7. Evaluation\n",
    "y_pred = model.predict(X_test)\n",
    "print(\"Model Evaluation:\")\n",
    "print(classification_report(y_test, y_pred))\n",
    "print(confusion_matrix(y_test, y_pred))"
   ]
  },
  {
   "cell_type": "code",
   "execution_count": null,
   "metadata": {
    "vscode": {
     "languageId": "plaintext"
    }
   },
   "outputs": [],
   "source": [
    "# 8. Feature Importance\n",
    "# Display the most important features according to the model\n",
    "feature_importances = pd.Series(model.feature_importances_, index=X.columns)\n",
    "feature_importances.nlargest(10).plot(kind='barh', title=\"Top 10 Feature Importances\")\n",
    "plt.show()"
   ]
  },
  {
   "cell_type": "code",
   "execution_count": null,
   "metadata": {
    "vscode": {
     "languageId": "plaintext"
    }
   },
   "outputs": [],
   "source": [
    "# 9. Predicting AMD Valuation\n",
    "# Assuming you have current data for AMD’s valuation\n",
    "# Replace with actual latest AMD data\n",
    "amd_data = {\n",
    "    'GDP': [df['GDP'].iloc[-1]],  # Use most recent GDP\n",
    "    'Inflation_Rate': [df['Inflation_Rate'].iloc[-1]],  # Use most recent Inflation Rate\n",
    "    # Add other required features based on the columns in X\n",
    "}\n",
    "\n",
    "# Convert AMD data to DataFrame\n",
    "amd_df = pd.DataFrame(amd_data)\n",
    "\n",
    "# Apply scaling to AMD data\n",
    "amd_scaled = scaler.transform(amd_df)\n",
    "\n",
    "# Predict AMD’s valuation (1 = undervalued, 0 = overvalued)\n",
    "amd_prediction = model.predict(amd_scaled)\n",
    "print(\"AMD Valuation Prediction:\", \"Undervalued\" if amd_prediction[0] == 1 else \"Overvalued\")"
   ]
  }
 ],
 "metadata": {
  "language_info": {
   "name": "python"
  }
 },
 "nbformat": 4,
 "nbformat_minor": 2
}
